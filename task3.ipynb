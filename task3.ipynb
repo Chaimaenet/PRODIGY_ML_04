{
 "cells": [
  {
   "cell_type": "code",
   "execution_count": 1,
   "metadata": {},
   "outputs": [
    {
     "name": "stdout",
     "output_type": "stream",
     "text": [
      "Defaulting to user installation because normal site-packages is not writeable\n",
      "Requirement already satisfied: opencv-python in /home/chaima/.local/lib/python3.10/site-packages (4.9.0.80)\n",
      "Requirement already satisfied: numpy>=1.21.2 in /home/chaima/.local/lib/python3.10/site-packages (from opencv-python) (1.26.2)\n",
      "\n",
      "\u001b[1m[\u001b[0m\u001b[34;49mnotice\u001b[0m\u001b[1;39;49m]\u001b[0m\u001b[39;49m A new release of pip is available: \u001b[0m\u001b[31;49m24.0\u001b[0m\u001b[39;49m -> \u001b[0m\u001b[32;49m24.1.1\u001b[0m\n",
      "\u001b[1m[\u001b[0m\u001b[34;49mnotice\u001b[0m\u001b[1;39;49m]\u001b[0m\u001b[39;49m To update, run: \u001b[0m\u001b[32;49mpip install --upgrade pip\u001b[0m\n",
      "Note: you may need to restart the kernel to use updated packages.\n"
     ]
    }
   ],
   "source": [
    "pip install opencv-python\n"
   ]
  },
  {
   "cell_type": "code",
   "execution_count": 2,
   "metadata": {},
   "outputs": [],
   "source": [
    "import cv2\n",
    "import numpy as np\n",
    "from sklearn.metrics import pairwise\n",
    "\n",
    "\n",
    "accumulated_weight = 0.5\n",
    "roi_top = 20\n",
    "roi_bottom = 300\n",
    "roi_right = 300\n",
    "roi_left = 600\n",
    "shift = (roi_right, roi_top)"
   ]
  },
  {
   "cell_type": "code",
   "execution_count": 3,
   "metadata": {},
   "outputs": [],
   "source": [
    "def calc_accum_avg(frame, background):    \n",
    "    # Initialize background with a copy of frame\n",
    "    if background is None:\n",
    "        return frame.copy()\n",
    "\n",
    "    # smooth background is the compute weighted average of consecutive background frames\n",
    "    cv2.accumulateWeighted(frame, background.astype(\"float\"), accumulated_weight)\n",
    "    return background"
   ]
  },
  {
   "cell_type": "code",
   "execution_count": 4,
   "metadata": {},
   "outputs": [],
   "source": [
    "def segment(frame, background, threshold=25):\n",
    "    # Absolute Difference between the backgroud and frame increases focus on hand\n",
    "    diff = cv2.absdiff(background, frame)\n",
    "\n",
    "    # preprocessing image\n",
    "    _ , thresh = cv2.threshold(diff, threshold, 255, cv2.THRESH_BINARY)\n",
    "    contours, hierarchy = cv2.findContours(thresh, cv2.RETR_EXTERNAL, cv2.CHAIN_APPROX_SIMPLE)\n",
    "\n",
    "    if len(contours) == 0:\n",
    "        return None\n",
    "    else:\n",
    "        # the external contour with largest area should be the hand\n",
    "        hand_segment = max(contours, key=cv2.contourArea)\n",
    "        return (thresh, hand_segment)"
   ]
  },
  {
   "cell_type": "code",
   "execution_count": 5,
   "metadata": {},
   "outputs": [],
   "source": [
    "def count_fingers(thresh, hand_segment):\n",
    "    conv_hull = cv2.convexHull(hand_segment)\n",
    "    \n",
    "    top    = tuple(conv_hull[conv_hull[:, :, 1].argmin()][0])\n",
    "    bottom = tuple(conv_hull[conv_hull[:, :, 1].argmax()][0])\n",
    "    left   = tuple(conv_hull[conv_hull[:, :, 0].argmin()][0])\n",
    "    right  = tuple(conv_hull[conv_hull[:, :, 0].argmax()][0])\n",
    "\n",
    "    # finding center of hand (cX,cY) and mid of palm (cX,cY1)\n",
    "    cX = (left[0] + right[0]) // 2\n",
    "    cY = (top[1] + bottom[1]) // 2\n",
    "    cY1 = (cY + bottom[1]) // 2\n",
    "    \n",
    "    # activity - draw convex-hull contours on image frame and check several group of contours around fingertips and wrist\n",
    "    # consider one approx contour from every closely grouped contours\n",
    "    peri=cv2.arcLength(conv_hull,True)\n",
    "    approx=cv2.approxPolyDP(conv_hull,0.02*peri,True)\n",
    "\n",
    "    # consider only the contours above the center of palm\n",
    "    # this may not exactly point to the fingertips every time\n",
    "    fingerTips=[]\n",
    "    for pt in approx:\n",
    "        x,y=pt[0]\n",
    "        if y<cY1:\n",
    "            fingerTips.append((x,y))\n",
    "\n",
    "    # Now lets count fingers\n",
    "    # create a circle around hand and overlap it upon hand threshold\n",
    "    # the intersections on circle indicate fingers above the wrist\n",
    "    distance = pairwise.euclidean_distances([(cX, cY)], Y=[left, right, top, bottom])[0]\n",
    "    max_distance = distance.max()\n",
    "    radius = int(0.9 * max_distance)\n",
    "    circumference = (2 * np.pi * radius)\n",
    "    circular_roi = np.zeros(thresh.shape[:2], dtype=\"uint8\")\n",
    "    res=cv2.circle(circular_roi, (cX, cY), radius, 255, 10)\n",
    "    circular_roi = cv2.bitwise_and(thresh, thresh, mask=circular_roi)\n",
    "    contours, hierarchy = cv2.findContours(circular_roi, cv2.RETR_EXTERNAL, cv2.CHAIN_APPROX_NONE)\n",
    "    count = 0\n",
    "    for cnt in contours:\n",
    "        (x, y, w, h) = cv2.boundingRect(cnt)\n",
    "\n",
    "        # Increment count of fingers based on two conditions:\n",
    "\n",
    "        # 1. Contour region is above hand area (the wrist)\n",
    "        out_of_wrist = ((cY + (cY * 0.25)) > (y + h))\n",
    "\n",
    "        # 2. Number of points along the contour does not exceed 25% of the circumference of the circular ROI (otherwise we're counting points off the hand)\n",
    "        limit_points = ((circumference * 0.25) > cnt.shape[0])\n",
    "\n",
    "        if  out_of_wrist and limit_points:\n",
    "            count += 1\n",
    "\n",
    "    return (count, fingerTips, (cX,cY1))\n"
   ]
  },
  {
   "cell_type": "code",
   "execution_count": 6,
   "metadata": {},
   "outputs": [],
   "source": [
    "def real_time_feed():\n",
    "    background = None\n",
    "    cam = cv2.VideoCapture(0)\n",
    "    num_frames = 0\n",
    "    while True:\n",
    "        num_frames += 1\n",
    "        ret, frame = cam.read()\n",
    "        # flip the frame so that it is not the mirror view\n",
    "        frame = cv2.flip(frame, 1)\n",
    "        frame_copy = frame.copy()\n",
    "        fingerTips = []\n",
    "        roi = frame[roi_top:roi_bottom, roi_right:roi_left]\n",
    "        gray = cv2.cvtColor(roi, cv2.COLOR_BGR2GRAY)\n",
    "        gray = cv2.GaussianBlur(gray, (5, 5), 0)\n",
    "    \n",
    "        # Get an average background from the first 30 frames\n",
    "        # the user is notified while this is happening\n",
    "        if num_frames <= 60:\n",
    "            background = calc_accum_avg(gray, background)\n",
    "            if num_frames <= 60:\n",
    "                cv2.putText(frame_copy, \"WAIT! GETTING BACKGROUND AVG.\", (200, 400), cv2.FONT_HERSHEY_SIMPLEX, 1, (0,0,255), 2)\n",
    "                cv2.imshow(\"Finger Count\",frame_copy)\n",
    "    \n",
    "        else:\n",
    "            # segment the hand region\n",
    "            hand = segment(gray, background)\n",
    "\n",
    "            if hand is not None:\n",
    "                thresholded, hand_segment = hand\n",
    "                res=cv2.drawContours(frame_copy, [hand_segment + (roi_right, roi_top)], -1, (255, 0, 0),1)\n",
    "                fingers, fingerTips, centrePt = count_fingers(thresholded, hand_segment)\n",
    "                centrePt = tuple(map(sum,zip(centrePt,shift)))\n",
    "                cv2.putText(frame_copy, \"Count = \"+str(fingers), (100, 45), cv2.FONT_HERSHEY_SIMPLEX, 1, (255,0,0), 2)\n",
    "                cv2.imshow(\"Thresholded\", thresholded)\n",
    "        res=cv2.rectangle(frame_copy, (roi_left, roi_top), (roi_right, roi_bottom), (0,0,255), 5)\n",
    "        for tip in fingerTips:\n",
    "            tip=tuple(map(sum,zip(tip,shift)))\n",
    "            res=cv2.line(frame_copy, tip, centrePt, (0,0,255), 2)\n",
    "        cv2.imshow(\"Finger Count\", frame_copy)\n",
    "        k = cv2.waitKey(1) & 0xFF\n",
    "        # Close windows with Esc\n",
    "        if k == 27:\n",
    "            break\n",
    "  \n",
    "    cam.release()\n",
    "    cv2.destroyAllWindows()\n"
   ]
  },
  {
   "cell_type": "code",
   "execution_count": 7,
   "metadata": {},
   "outputs": [],
   "source": [
    "def check_gesture(bgPath, imagePath):\n",
    "    background = cv2.imread(bgPath)\n",
    "    grayBackground=cv2.cvtColor(background, cv2.COLOR_BGR2GRAY)\n",
    "    grayBackground=cv2.GaussianBlur(grayBackground, (5, 5), 0)\n",
    "    image = cv2.imread(imagePath)\n",
    "    gray=cv2.cvtColor(image, cv2.COLOR_BGR2GRAY)\n",
    "    gray=cv2.GaussianBlur(gray, (5, 5), 0)\n",
    "    hand = segment(gray, grayBackground)\n",
    "    if hand is not None:\n",
    "        thresh, hand_segment = hand\n",
    "        res=cv2.drawContours(image, hand_segment, -1, (255, 0, 0), 1)\n",
    "        fingers, fingerTips, centrePt = count_fingers(thresh, hand_segment)\n",
    "        centrePt = tuple(map(sum,zip(centrePt,shift)))\n",
    "        cv2.putText(image, \"Count = \"+str(fingers), (70, 45), cv2.FONT_HERSHEY_SIMPLEX, 1, (0,0,255), 2)\n",
    "        cv2.imshow(\"Thresholded\", thresh)\n",
    "    for tip in fingerTips:\n",
    "        tip=tuple(map(sum,zip(tip,shift)))\n",
    "        res=cv2.line(image, tip, centrePt, (0,0,255), 2)\n",
    "    cv2.imshow(\"Finger Count\", image)\n",
    "    key=cv2.waitKey(0) & 0xFF\n",
    "    cv2.destroyAllWindows()"
   ]
  },
  {
   "cell_type": "code",
   "execution_count": 8,
   "metadata": {},
   "outputs": [
    {
     "ename": "KeyboardInterrupt",
     "evalue": "",
     "output_type": "error",
     "traceback": [
      "\u001b[0;31m---------------------------------------------------------------------------\u001b[0m",
      "\u001b[0;31mKeyboardInterrupt\u001b[0m                         Traceback (most recent call last)",
      "\u001b[0;32m/tmp/ipykernel_10436/631482587.py\u001b[0m in \u001b[0;36m<module>\u001b[0;34m\u001b[0m\n\u001b[1;32m      1\u001b[0m \u001b[0;32mif\u001b[0m \u001b[0m__name__\u001b[0m \u001b[0;34m==\u001b[0m \u001b[0;34m\"__main__\"\u001b[0m\u001b[0;34m:\u001b[0m\u001b[0;34m\u001b[0m\u001b[0;34m\u001b[0m\u001b[0m\n\u001b[0;32m----> 2\u001b[0;31m     \u001b[0mreal_time_feed\u001b[0m\u001b[0;34m(\u001b[0m\u001b[0;34m)\u001b[0m\u001b[0;34m\u001b[0m\u001b[0;34m\u001b[0m\u001b[0m\n\u001b[0m",
      "\u001b[0;32m/tmp/ipykernel_10436/534583168.py\u001b[0m in \u001b[0;36mreal_time_feed\u001b[0;34m()\u001b[0m\n\u001b[1;32m     37\u001b[0m             \u001b[0mtip\u001b[0m\u001b[0;34m=\u001b[0m\u001b[0mtuple\u001b[0m\u001b[0;34m(\u001b[0m\u001b[0mmap\u001b[0m\u001b[0;34m(\u001b[0m\u001b[0msum\u001b[0m\u001b[0;34m,\u001b[0m\u001b[0mzip\u001b[0m\u001b[0;34m(\u001b[0m\u001b[0mtip\u001b[0m\u001b[0;34m,\u001b[0m\u001b[0mshift\u001b[0m\u001b[0;34m)\u001b[0m\u001b[0;34m)\u001b[0m\u001b[0;34m)\u001b[0m\u001b[0;34m\u001b[0m\u001b[0;34m\u001b[0m\u001b[0m\n\u001b[1;32m     38\u001b[0m             \u001b[0mres\u001b[0m\u001b[0;34m=\u001b[0m\u001b[0mcv2\u001b[0m\u001b[0;34m.\u001b[0m\u001b[0mline\u001b[0m\u001b[0;34m(\u001b[0m\u001b[0mframe_copy\u001b[0m\u001b[0;34m,\u001b[0m \u001b[0mtip\u001b[0m\u001b[0;34m,\u001b[0m \u001b[0mcentrePt\u001b[0m\u001b[0;34m,\u001b[0m \u001b[0;34m(\u001b[0m\u001b[0;36m0\u001b[0m\u001b[0;34m,\u001b[0m\u001b[0;36m0\u001b[0m\u001b[0;34m,\u001b[0m\u001b[0;36m255\u001b[0m\u001b[0;34m)\u001b[0m\u001b[0;34m,\u001b[0m \u001b[0;36m2\u001b[0m\u001b[0;34m)\u001b[0m\u001b[0;34m\u001b[0m\u001b[0;34m\u001b[0m\u001b[0m\n\u001b[0;32m---> 39\u001b[0;31m         \u001b[0mcv2\u001b[0m\u001b[0;34m.\u001b[0m\u001b[0mimshow\u001b[0m\u001b[0;34m(\u001b[0m\u001b[0;34m\"Finger Count\"\u001b[0m\u001b[0;34m,\u001b[0m \u001b[0mframe_copy\u001b[0m\u001b[0;34m)\u001b[0m\u001b[0;34m\u001b[0m\u001b[0;34m\u001b[0m\u001b[0m\n\u001b[0m\u001b[1;32m     40\u001b[0m         \u001b[0mk\u001b[0m \u001b[0;34m=\u001b[0m \u001b[0mcv2\u001b[0m\u001b[0;34m.\u001b[0m\u001b[0mwaitKey\u001b[0m\u001b[0;34m(\u001b[0m\u001b[0;36m1\u001b[0m\u001b[0;34m)\u001b[0m \u001b[0;34m&\u001b[0m \u001b[0;36m0xFF\u001b[0m\u001b[0;34m\u001b[0m\u001b[0;34m\u001b[0m\u001b[0m\n\u001b[1;32m     41\u001b[0m         \u001b[0;31m# Close windows with Esc\u001b[0m\u001b[0;34m\u001b[0m\u001b[0;34m\u001b[0m\u001b[0m\n",
      "\u001b[0;31mKeyboardInterrupt\u001b[0m: "
     ]
    }
   ],
   "source": [
    "if __name__ == \"__main__\":\n",
    "    real_time_feed()\n"
   ]
  }
 ],
 "metadata": {
  "kernelspec": {
   "display_name": "Python 3",
   "language": "python",
   "name": "python3"
  },
  "language_info": {
   "codemirror_mode": {
    "name": "ipython",
    "version": 3
   },
   "file_extension": ".py",
   "mimetype": "text/x-python",
   "name": "python",
   "nbconvert_exporter": "python",
   "pygments_lexer": "ipython3",
   "version": "3.10.12"
  }
 },
 "nbformat": 4,
 "nbformat_minor": 2
}
